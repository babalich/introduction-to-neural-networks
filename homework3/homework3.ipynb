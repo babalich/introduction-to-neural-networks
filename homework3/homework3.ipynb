{
 "cells": [
  {
   "cell_type": "code",
   "execution_count": 1,
   "metadata": {
    "colab": {},
    "colab_type": "code",
    "id": "dzLKpmZICaWN"
   },
   "outputs": [
    {
     "name": "stdout",
     "output_type": "stream",
     "text": [
      "2.0.0\n"
     ]
    }
   ],
   "source": [
    "# TensorFlow and tf.keras\n",
    "import tensorflow as tf\n",
    "from tensorflow import keras\n",
    "\n",
    "# Helper libraries\n",
    "import numpy as np\n",
    "import matplotlib.pyplot as plt\n",
    "\n",
    "print(tf.__version__)"
   ]
  },
  {
   "cell_type": "markdown",
   "metadata": {},
   "source": [
    "### Попробуйте обучить нейронную сеть на TensorFlow 2 на любом датасете imdb_reviews. Опишите в комментарии к уроку - какой результата вы добились от нейросети? Что помогло вам улучшить ее точность?"
   ]
  },
  {
   "cell_type": "code",
   "execution_count": 2,
   "metadata": {},
   "outputs": [],
   "source": [
    "imdb = keras.datasets.imdb"
   ]
  },
  {
   "cell_type": "code",
   "execution_count": 35,
   "metadata": {},
   "outputs": [],
   "source": [
    "num_words = 10000\n",
    "(x_train, y_train), (x_test, y_test) = imdb.load_data(num_words=num_words)"
   ]
  },
  {
   "cell_type": "code",
   "execution_count": 19,
   "metadata": {},
   "outputs": [
    {
     "data": {
      "text/plain": [
       "(25000,)"
      ]
     },
     "execution_count": 19,
     "metadata": {},
     "output_type": "execute_result"
    }
   ],
   "source": [
    "x_train.shape"
   ]
  },
  {
   "cell_type": "code",
   "execution_count": 20,
   "metadata": {},
   "outputs": [
    {
     "data": {
      "text/plain": [
       "False"
      ]
     },
     "execution_count": 20,
     "metadata": {},
     "output_type": "execute_result"
    }
   ],
   "source": [
    "0 in np.hstack(x_train)"
   ]
  },
  {
   "cell_type": "markdown",
   "metadata": {},
   "source": [
    "Каждая строка нашего датасета - это набор цифр(каждой цифре соответствует слово). Длина отзывов различается. <br>\n",
    "Чтобы узнать, сколько мы хотим использовать входных нейронов, нам нужно найти самый длинный отзыв, а менее короткие дозаполнить нулями."
   ]
  },
  {
   "cell_type": "code",
   "execution_count": 36,
   "metadata": {},
   "outputs": [
    {
     "data": {
      "text/plain": [
       "234.75892"
      ]
     },
     "execution_count": 36,
     "metadata": {},
     "output_type": "execute_result"
    }
   ],
   "source": [
    "data = np.concatenate((x_train, x_test), axis=0)\n",
    "np.mean([len(data[i]) for i in range(len(data))])"
   ]
  },
  {
   "cell_type": "code",
   "execution_count": 22,
   "metadata": {},
   "outputs": [],
   "source": [
    "max_len = 240"
   ]
  },
  {
   "cell_type": "code",
   "execution_count": 37,
   "metadata": {},
   "outputs": [],
   "source": [
    "# нашлась подходящая встроенная функция\n",
    "x_train = keras.preprocessing.sequence.pad_sequences(x_train, max_len, padding='post')\n",
    "x_test = keras.preprocessing.sequence.pad_sequences(x_test, max_len, padding='post')"
   ]
  },
  {
   "cell_type": "code",
   "execution_count": 38,
   "metadata": {},
   "outputs": [],
   "source": [
    "model_imdb = keras.Sequential([\n",
    "    keras.layers.Dense(128, activation='elu', input_shape=(max_len,)),\n",
    "    keras.layers.Dense(64, activation='elu'),      \n",
    "    keras.layers.Dense(1, activation='sigmoid')\n",
    "]) "
   ]
  },
  {
   "cell_type": "code",
   "execution_count": 39,
   "metadata": {},
   "outputs": [],
   "source": [
    "model_imdb.compile(optimizer='adam',\n",
    "                  metrics=['accuracy'],\n",
    "                  loss='binary_crossentropy')"
   ]
  },
  {
   "cell_type": "code",
   "execution_count": 42,
   "metadata": {},
   "outputs": [
    {
     "name": "stdout",
     "output_type": "stream",
     "text": [
      "Train on 22500 samples, validate on 2500 samples\n",
      "Epoch 1/15\n",
      "22500/22500 [==============================] - 0s 22us/sample - loss: 0.7381 - accuracy: 0.6146 - val_loss: 1.6345 - val_accuracy: 0.5116\n",
      "Epoch 2/15\n",
      "22500/22500 [==============================] - 0s 21us/sample - loss: 0.6806 - accuracy: 0.6329 - val_loss: 1.5470 - val_accuracy: 0.5184\n",
      "Epoch 3/15\n",
      "22500/22500 [==============================] - 0s 20us/sample - loss: 0.7451 - accuracy: 0.6352 - val_loss: 1.7920 - val_accuracy: 0.5048\n",
      "Epoch 4/15\n",
      "22500/22500 [==============================] - 0s 20us/sample - loss: 0.7318 - accuracy: 0.6379 - val_loss: 1.5158 - val_accuracy: 0.5152\n",
      "Epoch 5/15\n",
      "22500/22500 [==============================] - 0s 20us/sample - loss: 0.6492 - accuracy: 0.6532 - val_loss: 1.7330 - val_accuracy: 0.5080\n",
      "Epoch 6/15\n",
      "22500/22500 [==============================] - 0s 21us/sample - loss: 0.6350 - accuracy: 0.6600 - val_loss: 1.7577 - val_accuracy: 0.5212\n",
      "Epoch 7/15\n",
      "22500/22500 [==============================] - 0s 20us/sample - loss: 0.6164 - accuracy: 0.6739 - val_loss: 1.5538 - val_accuracy: 0.5164\n",
      "Epoch 8/15\n",
      "22500/22500 [==============================] - 0s 20us/sample - loss: 0.6083 - accuracy: 0.6812 - val_loss: 1.7847 - val_accuracy: 0.5168\n",
      "Epoch 9/15\n",
      "22500/22500 [==============================] - 0s 21us/sample - loss: 0.5893 - accuracy: 0.6904 - val_loss: 1.6029 - val_accuracy: 0.5176\n",
      "Epoch 10/15\n",
      "22500/22500 [==============================] - 1s 23us/sample - loss: 0.5848 - accuracy: 0.6919 - val_loss: 1.8162 - val_accuracy: 0.5096\n",
      "Epoch 11/15\n",
      "22500/22500 [==============================] - 0s 21us/sample - loss: 0.5739 - accuracy: 0.6924 - val_loss: 1.8173 - val_accuracy: 0.5136\n",
      "Epoch 12/15\n",
      "22500/22500 [==============================] - 0s 22us/sample - loss: 0.6006 - accuracy: 0.6960 - val_loss: 1.8271 - val_accuracy: 0.5164\n",
      "Epoch 13/15\n",
      "22500/22500 [==============================] - 0s 21us/sample - loss: 0.5687 - accuracy: 0.7084 - val_loss: 1.8882 - val_accuracy: 0.5136\n",
      "Epoch 14/15\n",
      "22500/22500 [==============================] - 0s 21us/sample - loss: 0.5871 - accuracy: 0.7045 - val_loss: 1.8054 - val_accuracy: 0.5240\n",
      "Epoch 15/15\n",
      "22500/22500 [==============================] - 0s 21us/sample - loss: 0.5375 - accuracy: 0.7204 - val_loss: 2.0081 - val_accuracy: 0.5132\n"
     ]
    }
   ],
   "source": [
    "history = model_imdb.fit(x_train, y_train, epochs=15, batch_size=128, validation_split=0.1)"
   ]
  },
  {
   "cell_type": "code",
   "execution_count": 43,
   "metadata": {},
   "outputs": [
    {
     "data": {
      "text/plain": [
       "[1.8922060345077514, 0.50716]"
      ]
     },
     "execution_count": 43,
     "metadata": {},
     "output_type": "execute_result"
    }
   ],
   "source": [
    "model_imdb.evaluate(x_test,  y_test, verbose=0)"
   ]
  },
  {
   "cell_type": "code",
   "execution_count": 44,
   "metadata": {},
   "outputs": [
    {
     "data": {
      "image/png": "[encoded data removed]",
      "text/plain": [
       "<Figure size 432x288 with 1 Axes>"
      ]
     },
     "metadata": {
      "needs_background": "light"
     },
     "output_type": "display_data"
    }
   ],
   "source": [
    "plt.plot(history.history['accuracy'], label='acc')\n",
    "plt.plot(history.history['val_accuracy'], label='val_acc')\n",
    "plt.legend()\n",
    "plt.show()"
   ]
  },
  {
   "cell_type": "markdown",
   "metadata": {},
   "source": [
    "При данной модели мы видим явное переобучение: точность растет на обучающей выборке, и неизменна на валидации. При этом итоговый результат модели ~50%, что для бинарной классификации является простым угадыванием. <br>\n",
    "В нашем случае проблема в том, каким образом мы подали информацию в нейросеть. <br> Нельзя просто отправить на вход номера слов, нужно преобразовать всё в вектор. По смыслу подходит функция keras.preprocessing.text.one_hot, но она применима только к тексту. Чтобы лишний раз не восстанавливать рецензии по словарю, бегло погуглим и воспользуемся готовой функцией."
   ]
  },
  {
   "cell_type": "code",
   "execution_count": 31,
   "metadata": {},
   "outputs": [],
   "source": [
    "def vectorize_sequences(sequences, dimension=10000):\n",
    "    results = np.zeros((len(sequences), dimension))\n",
    "    for i, sequence in enumerate(sequences):\n",
    "        results[i, sequence] = 1.\n",
    "        \n",
    "    return results"
   ]
  },
  {
   "cell_type": "code",
   "execution_count": 45,
   "metadata": {},
   "outputs": [],
   "source": [
    "x_train = vectorize_sequences(x_train)\n",
    "x_test = vectorize_sequences(x_test)"
   ]
  },
  {
   "cell_type": "code",
   "execution_count": 46,
   "metadata": {},
   "outputs": [
    {
     "name": "stdout",
     "output_type": "stream",
     "text": [
      "Train on 22500 samples, validate on 2500 samples\n",
      "Epoch 1/15\n",
      "22500/22500 [==============================] - 3s 128us/sample - loss: 0.3306 - accuracy: 0.8597 - val_loss: 0.2894 - val_accuracy: 0.8796\n",
      "Epoch 2/15\n",
      "22500/22500 [==============================] - 2s 98us/sample - loss: 0.1862 - accuracy: 0.9282 - val_loss: 0.2989 - val_accuracy: 0.8780\n",
      "Epoch 3/15\n",
      "22500/22500 [==============================] - 2s 88us/sample - loss: 0.1348 - accuracy: 0.9480 - val_loss: 0.3774 - val_accuracy: 0.8760\n",
      "Epoch 4/15\n",
      "22500/22500 [==============================] - 2s 88us/sample - loss: 0.0986 - accuracy: 0.9617 - val_loss: 0.4393 - val_accuracy: 0.8736\n",
      "Epoch 5/15\n",
      "22500/22500 [==============================] - 2s 88us/sample - loss: 0.0727 - accuracy: 0.9700 - val_loss: 0.5622 - val_accuracy: 0.8692\n",
      "Epoch 6/15\n",
      "22500/22500 [==============================] - 2s 88us/sample - loss: 0.0541 - accuracy: 0.9788 - val_loss: 0.6930 - val_accuracy: 0.8596\n",
      "Epoch 7/15\n",
      "22500/22500 [==============================] - 2s 88us/sample - loss: 0.0365 - accuracy: 0.9867 - val_loss: 0.7870 - val_accuracy: 0.8648\n",
      "Epoch 8/15\n",
      "22500/22500 [==============================] - 2s 88us/sample - loss: 0.0252 - accuracy: 0.9916 - val_loss: 0.8825 - val_accuracy: 0.8648\n",
      "Epoch 9/15\n",
      "22500/22500 [==============================] - 2s 90us/sample - loss: 0.0219 - accuracy: 0.9927 - val_loss: 0.9171 - val_accuracy: 0.8612\n",
      "Epoch 10/15\n",
      "22500/22500 [==============================] - 2s 88us/sample - loss: 0.0177 - accuracy: 0.9941 - val_loss: 1.0888 - val_accuracy: 0.8616\n",
      "Epoch 11/15\n",
      "22500/22500 [==============================] - 2s 88us/sample - loss: 0.0118 - accuracy: 0.9961 - val_loss: 1.0770 - val_accuracy: 0.8568\n",
      "Epoch 12/15\n",
      "22500/22500 [==============================] - 2s 89us/sample - loss: 0.0068 - accuracy: 0.9977 - val_loss: 1.2000 - val_accuracy: 0.8576\n",
      "Epoch 13/15\n",
      "22500/22500 [==============================] - 2s 89us/sample - loss: 0.0049 - accuracy: 0.9986 - val_loss: 1.2506 - val_accuracy: 0.8644\n",
      "Epoch 14/15\n",
      "22500/22500 [==============================] - 2s 89us/sample - loss: 0.0044 - accuracy: 0.9987 - val_loss: 1.2911 - val_accuracy: 0.8588\n",
      "Epoch 15/15\n",
      "22500/22500 [==============================] - 2s 93us/sample - loss: 0.0049 - accuracy: 0.9985 - val_loss: 1.3113 - val_accuracy: 0.8716\n"
     ]
    },
    {
     "data": {
      "image/png": "[encoded data removed]",
      "text/plain": [
       "<Figure size 432x288 with 1 Axes>"
      ]
     },
     "metadata": {
      "needs_background": "light"
     },
     "output_type": "display_data"
    }
   ],
   "source": [
    "model_imdb1 = keras.Sequential([\n",
    "    keras.layers.Dense(128, activation='elu', input_shape=(num_words,)),\n",
    "    keras.layers.Dense(64, activation='elu'),      \n",
    "    keras.layers.Dense(1, activation='sigmoid')\n",
    "]) \n",
    "\n",
    "model_imdb1.compile(optimizer='adam',\n",
    "                  metrics=['accuracy'],\n",
    "                  loss='binary_crossentropy')\n",
    "\n",
    "history = model_imdb1.fit(x_train, y_train, epochs=15, batch_size=128, validation_split=0.1)\n",
    "\n",
    "plt.plot(history.history['accuracy'], label='acc')\n",
    "plt.plot(history.history['val_accuracy'], label='val_acc')\n",
    "plt.legend()\n",
    "plt.show()"
   ]
  },
  {
   "cell_type": "markdown",
   "metadata": {},
   "source": [
    "Правильно представив исходные данные в векторном виде, мы получили гораздо более приемлимый результат. При заданных параметрах нейросети мы так же наблюдаем переобучение. <br>\n",
    "Мы рассмотрели One hot encoding для анализа текста. Другой подход, который я нашел - Embedding, который останется за рамками данной работы :)"
   ]
  },
  {
   "cell_type": "code",
   "execution_count": null,
   "metadata": {},
   "outputs": [],
   "source": []
  },
  {
   "cell_type": "code",
   "execution_count": 47,
   "metadata": {},
   "outputs": [],
   "source": []
  },
  {
   "cell_type": "code",
   "execution_count": null,
   "metadata": {},
   "outputs": [],
   "source": []
  },
  {
   "cell_type": "code",
   "execution_count": null,
   "metadata": {},
   "outputs": [],
   "source": []
  }
 ],
 "metadata": {
  "colab": {
   "collapsed_sections": [],
   "name": "classification.ipynb",
   "private_outputs": true,
   "provenance": [],
   "toc_visible": true
  },
  "kernelspec": {
   "display_name": "Python 3",
   "language": "python",
   "name": "python3"
  },
  "language_info": {
   "codemirror_mode": {
    "name": "ipython",
    "version": 3
   },
   "file_extension": ".py",
   "mimetype": "text/x-python",
   "name": "python",
   "nbconvert_exporter": "python",
   "pygments_lexer": "ipython3",
   "version": "3.7.3"
  }
 },
 "nbformat": 4,
 "nbformat_minor": 1
}
